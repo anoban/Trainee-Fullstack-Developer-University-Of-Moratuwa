{
 "cells": [
  {
   "cell_type": "markdown",
   "metadata": {
    "id": "6M9CL9eqt-MN"
   },
   "source": [
    "Databases are organised collections of ***data***, this allows them to be displayed, maintained and searched easily. Our database will have 1 ***table***, effectively just like a spreadsheet table. The headings on each of the columns are the ***fields***, the individual pieces of data we want to store about the books in our collection. The information about a single book are called its ***attributes*** and are stored toegther in one ***record***, which would be a single row in our database table. To make it easier to search and sort our database, we should also select a ***primary key***, one field that will be unique for each book. Sometimes one of the fields we are already storing works for this purpose, if not then the database will create an ID number that it uses to uniquely identify each record."
   ]
  },
  {
   "cell_type": "markdown",
   "metadata": {
    "id": "bWfBlDbZuqTX"
   },
   "source": [
    "The requirements for our database are that it can do the following things; Save data to a file, read data from that file, create new books, display our full database, allow the user to enter a search term and display a list of relevant results based on that term.\n",
    "\n",
    "We can decompose the problem into the following steps:\n",
    "1.\tSet up our structures\n",
    "2.\tCreate a record\n",
    "3.\tSave the data to the database file\n",
    "4.\tRead from the database file\n",
    "5.\tDisplay the database to the user\n",
    "6.\tAllow the user to search the database\n",
    "7.\tDisplay the results\n"
   ]
  },
  {
   "cell_type": "markdown",
   "metadata": {
    "id": "pgvVsq528k5T"
   },
   "source": [
    "We want to save our data to the text file, as if it was a table. So each line will be a comma separated list of the values in one of our book records. Apart from the first line in the file, which will contain our field labels. There is a special file type for this, called CSV (comma separated values), that can be read using Word or Excel (and equivalents). "
   ]
  },
  {
   "cell_type": "markdown",
   "metadata": {
    "id": "RGbN4UHAswm5"
   },
   "source": [
    "# Import Statements\n",
    "Should import the external modules we need to run the project first"
   ]
  },
  {
   "cell_type": "code",
   "execution_count": 1,
   "metadata": {
    "id": "yFt7MBeEsvTd"
   },
   "outputs": [],
   "source": [
    "import csv"
   ]
  },
  {
   "cell_type": "markdown",
   "metadata": {
    "id": "NG0yTSP8s31L"
   },
   "source": [
    "# Global Variables \n",
    "Should initialize the global variables (i.e variables used by many finctions or modules)\n",
    "\n",
    "Following are the variables along with their purposes \n",
    "\n",
    "\n",
    "*   *current_ID* : a variable to count up as we create records, this will be our primary key  \n",
    "*   *new_additions* : a list to hold any new records we make while our code is running, before we save them to the file\n",
    "*   *fields* : a list of our fields, so that our dictionaries can be aligned with our text file\n",
    "*   *data* : a list that will hold ALL of the data from the database, so that we can search and display it without having to read the file every time.\n",
    "\n",
    "\n"
   ]
  },
  {
   "cell_type": "code",
   "execution_count": 6,
   "metadata": {
    "id": "CRgCkuYAs7MI"
   },
   "outputs": [],
   "source": [
    "current_ID = 1\n",
    "new_additions = []\n",
    "filename = \"library.csv\"\n",
    "fields = ['ID', 'Title', 'Author', 'Genre', 'Year', 'Location']\n",
    "data = []"
   ]
  },
  {
   "cell_type": "markdown",
   "metadata": {
    "id": "iOEp-Req5z_4"
   },
   "source": [
    "# CSV File\n",
    "\n",
    "Read the exisiting data stored in the csv file for further usage.\n",
    "DictReader will take the comma seperated line and produce a dictionary for us. Then we need to make sure our current_ID is the one after the last line of our database (remember, we don’t want duplicates)\n",
    "\n",
    "Uncomment and Run the next cell if there's no file to create one. Otherwise skip it and continue with the next one"
   ]
  },
  {
   "cell_type": "code",
   "execution_count": 19,
   "metadata": {
    "id": "xIGqC9h56Tx9"
   },
   "outputs": [
    {
     "name": "stderr",
     "output_type": "stream",
     "text": [
      "The system cannot find the file specified.\n"
     ]
    }
   ],
   "source": [
    "!type null > $filename"
   ]
  },
  {
   "cell_type": "code",
   "execution_count": 7,
   "metadata": {},
   "outputs": [],
   "source": [
    "contents = list()\n",
    "with open(\"D:/DataSets/Library_Usage.csv\", \"r\") as myfile:\n",
    "    libfile = csv.DictReader(myfile)   # translates a .csv file into a list of dictionary objetcs\n",
    "    # with each dictionary corresponding to each record in the .csv file!\n",
    "    for i in libfile:\n",
    "        contents.append(dict(i))"
   ]
  },
  {
   "cell_type": "code",
   "execution_count": 17,
   "metadata": {},
   "outputs": [
    {
     "data": {
      "text/plain": [
       "['ï»¿Patron Type Code',\n",
       " 'Patron Type Definition',\n",
       " 'Total Checkouts',\n",
       " 'Total Renewals',\n",
       " 'Age Range',\n",
       " 'Home Library Code',\n",
       " 'Home Library Definition',\n",
       " 'Circulation Active Month',\n",
       " 'Circulation Active Year',\n",
       " 'Notice Preference Code',\n",
       " 'Notice Preference Definition',\n",
       " 'Provided Email Address',\n",
       " 'Year Patron Registered',\n",
       " 'Outside of County',\n",
       " 'Supervisor District']"
      ]
     },
     "execution_count": 17,
     "metadata": {},
     "output_type": "execute_result"
    }
   ],
   "source": [
    "# assumes the .csv file has a header, and reads in the first row elements as column titles i.e field names :)\n",
    "libfile.fieldnames"
   ]
  },
  {
   "cell_type": "code",
   "execution_count": 12,
   "metadata": {},
   "outputs": [
    {
     "data": {
      "text/plain": [
       "{'ï»¿Patron Type Code': '0',\n",
       " 'Patron Type Definition': 'ADULT',\n",
       " 'Total Checkouts': '0',\n",
       " 'Total Renewals': '0',\n",
       " 'Age Range': '20 to 24 years',\n",
       " 'Home Library Code': 'P1',\n",
       " 'Home Library Definition': 'Park',\n",
       " 'Circulation Active Month': 'None',\n",
       " 'Circulation Active Year': 'None',\n",
       " 'Notice Preference Code': 'z',\n",
       " 'Notice Preference Definition': 'email',\n",
       " 'Provided Email Address': 'true',\n",
       " 'Year Patron Registered': '2014',\n",
       " 'Outside of County': 'false',\n",
       " 'Supervisor District': '5'}"
      ]
     },
     "execution_count": 12,
     "metadata": {},
     "output_type": "execute_result"
    }
   ],
   "source": [
    "contents[0]"
   ]
  },
  {
   "cell_type": "code",
   "execution_count": 24,
   "metadata": {},
   "outputs": [
    {
     "data": {
      "text/plain": [
       "True"
      ]
     },
     "execution_count": 24,
     "metadata": {},
     "output_type": "execute_result"
    }
   ],
   "source": [
    "{\"Name\":\"Jennifer\", \"Age\":34, \"Sex\":\"Feamle\"}.get(\"Sex\") == {\"Name\":\"Jennifer\", \"Age\":34, \"Sex\":\"Feamle\"}[\"Sex\"]"
   ]
  },
  {
   "cell_type": "code",
   "execution_count": 25,
   "metadata": {
    "id": "F55COzB55s-E"
   },
   "outputs": [],
   "source": [
    "with open(filename, 'r') as csvfile:\n",
    "    reader = csv.DictReader(csvfile)\n",
    "    for row in reader:\n",
    "        data.append(dict(row))\n",
    "        \n",
    "if len(data) > 0:\n",
    "    current_ID = data[:-1][0].get(\"ID\")  # reordering the list: last element first and extracting the \n",
    "    # now first element, the last appended dictionary!!\n",
    "    current_ID = int(current_ID) + 1"
   ]
  },
  {
   "cell_type": "code",
   "execution_count": 26,
   "metadata": {},
   "outputs": [
    {
     "data": {
      "text/plain": [
       "[]"
      ]
     },
     "execution_count": 26,
     "metadata": {},
     "output_type": "execute_result"
    }
   ],
   "source": [
    "data"
   ]
  },
  {
   "cell_type": "markdown",
   "metadata": {
    "id": "rBMvmds1m7aa"
   },
   "source": [
    "# Function to add a record\n",
    "We are going to use dictionaries to store our records. They reference their elements using keys instead of indexes, which fit our database fields nicely. We are going to generate our own IDs. Each of these must be unique, so a variable is needed that we can add to as we make our records. This is a user focussed application so let’s make it so our user can input the data for the first book. The strings, in quotes, on the right of the colon are the keys (the names of our fields) and the data on the right is the stored value, in our case whatever the user inputs in response to our appropriate prompts.\n"
   ]
  },
  {
   "cell_type": "code",
   "execution_count": 27,
   "metadata": {
    "id": "CeLK4SNaoLGl"
   },
   "outputs": [],
   "source": [
    "def addRecord():\n",
    "  global current_ID\n",
    "  new_record = {\n",
    "      \"ID\": str(current_ID),\n",
    "      \"Title\": input(\"What is the title of the book? >\"),\n",
    "      \"Author\": input(\"What is the author's first name?  >\"),\n",
    "      \"Genre\": input(\"What genre is the book?  >\"),\n",
    "      \"Year\": input(\"What year was the book released?  >\"),\n",
    "      \"Location\": input(\"Where is the book? > \")\n",
    "  }\n",
    "  new_additions.append(new_record)\n",
    "  current_ID = current_ID + 1\n",
    "  print(\"-\"*15)\n",
    "  print(\"New Record has been added successfully!\")"
   ]
  },
  {
   "cell_type": "markdown",
   "metadata": {
    "id": "fhG_ZNdWqIPq"
   },
   "source": [
    "# Function to display the data\n",
    "We need to display the fields first, then the data from our database file and finally any new additions that have been made since the program has been running. There are 2 oddities in what we do to display the data, one is that because all of our data is stored in dictionaries, we need to print the value and not the key. Also we want to add space to our outputs so that it aligns like a table. "
   ]
  },
  {
   "cell_type": "code",
   "execution_count": 28,
   "metadata": {
    "id": "RRm7HpO1qLvq"
   },
   "outputs": [],
   "source": [
    "def displayData():\n",
    "  for item in fields:\n",
    "      print(\"%-25s\"%item, end='')\n",
    "  print(\"\\n\")\n",
    "  for row in data:  # data is a list containing records as dictionary objects!\n",
    "      for key, val in row.items():\n",
    "          print(\"%-25s\"%val, end='')\n",
    "      print(\"\\n\")\n",
    "  for row in new_additions:\n",
    "      for key, val in row.items():\n",
    "          print(\"%-25s\"%val, end='')\n",
    "      print(\"\\n\")"
   ]
  },
  {
   "cell_type": "markdown",
   "metadata": {
    "id": "0YsOlhvsqi0m"
   },
   "source": [
    "# Function to Search and display data\n",
    "The last bit of essential functionality required for our database is to allow the user to search it. There is lots of room for differentiation here, you can set some to the task of allowing users to search by certain fields, to challenge more competent students, or implement the more simple search done in this code. Using a new array to store any results, we search through both the data from the file and any new additions that have been made since our program started and if the search string is found anywhere in the values of that dictionary, it will be added to our results."
   ]
  },
  {
   "cell_type": "code",
   "execution_count": 29,
   "metadata": {
    "id": "MFxpU7nNr4qU"
   },
   "outputs": [],
   "source": [
    "def searchData() :\n",
    "  #Search the data\n",
    "  search_term = input(\"What would you like to search for?\").lower()\n",
    "  results = []\n",
    "  for row in data:\n",
    "      for key, val in row.items():\n",
    "          if search_term in val.lower():\n",
    "              results.append(row)\n",
    "  for item in new_additions:\n",
    "      for key, val in item.items():\n",
    "          if search_term in val.lower():\n",
    "              results.append(item)\n",
    "  #Display the results\n",
    "  if len(results) > 0:\n",
    "      for item in fields:\n",
    "          print(\"%-25s\"%item, end='')\n",
    "      print(\"\\n\")\n",
    "      for item in results:\n",
    "          for key, val in item.items():\n",
    "              print(\"%-25s\"%val, end='')\n",
    "          print(\"\\n\")\n",
    "  else:\n",
    "      print(\"Sorry no records found\")"
   ]
  },
  {
   "cell_type": "markdown",
   "metadata": {
    "id": "6DV6U5aKsdss"
   },
   "source": [
    "# Execute the code\n",
    "Now you can allow user to interact with the program and manipulate the database with the following code snippet"
   ]
  },
  {
   "cell_type": "code",
   "execution_count": null,
   "metadata": {
    "colab": {
     "base_uri": "https://localhost:8080/"
    },
    "id": "m1T1bI9bsptS",
    "outputId": "1587de6f-f58b-4f57-bfaa-b0ecd5b01973"
   },
   "outputs": [
    {
     "name": "stdout",
     "output_type": "stream",
     "text": [
      "------Welcome to the Python Library organiser------\n",
      "What would you like to do?\n",
      "    1 - Add a book\n",
      "    2 - Display your Books\n",
      "    3 - Search for a Book\n"
     ]
    },
    {
     "name": "stdin",
     "output_type": "stream",
     "text": [
      "> 1\n",
      "What is the title of the book? > Programming Principles\n",
      "What is the author's first name?  > J.C. Jennifer\n",
      "What genre is the book?  > Information-Technology/Programming\n",
      "What year was the book released?  > 2017\n",
      "Where is the book? >  Isle 7\n"
     ]
    },
    {
     "name": "stdout",
     "output_type": "stream",
     "text": [
      "---------------\n",
      "New Record has been added successfully!\n",
      "What would you like to do?\n",
      "    1 - Add a book\n",
      "    2 - Display your Books\n",
      "    3 - Search for a Book\n"
     ]
    },
    {
     "name": "stdin",
     "output_type": "stream",
     "text": [
      "> 2\n"
     ]
    },
    {
     "name": "stdout",
     "output_type": "stream",
     "text": [
      "ID                       Title                    Author                   Genre                    Year                     Location                 \n",
      "\n",
      "1                        Programming Principles   J.C. Jennifer            Information-Technology/Programming2017                     Isle 7                   \n",
      "\n",
      "What would you like to do?\n",
      "    1 - Add a book\n",
      "    2 - Display your Books\n",
      "    3 - Search for a Book\n"
     ]
    }
   ],
   "source": [
    "print(\"------Welcome to the Python Library organiser------\")\n",
    "\n",
    "choice = \"\"\n",
    "\n",
    "while choice.lower() != \"x\":\n",
    "    print(\"\"\"What would you like to do?\n",
    "    1 - Add a book\n",
    "    2 - Display your Books\n",
    "    3 - Search for a Book\"\"\")\n",
    "\n",
    "    choice = input(\">\")\n",
    "\n",
    "    if choice == \"1\":\n",
    "        #Code to add a record\n",
    "        addRecord()\n",
    "\n",
    "    elif choice == \"2\":\n",
    "        #Display the data\n",
    "        displayData()\n",
    "        \n",
    "    elif choice == \"3\":\n",
    "        #Search the data\n",
    "        searchData()\n",
    "        \n",
    "        \n",
    "    elif choice.lower() == \"x\":\n",
    "        print(\"Thank you! Shutting down.\")\n",
    "    else:\n",
    "        print(\"Sorry, I didnt recognise that option\")\n",
    "        \n"
   ]
  },
  {
   "cell_type": "markdown",
   "metadata": {
    "id": "3ssnhiYutZmx"
   },
   "source": [
    "# Save the newly added record in the CSV\n",
    "To store the new records,  we check if there is something in the new_additions list, this is for later when it will be possible to run your program without adding a book. We then open the csv file, by calling the open function with the filename variable we set up a moment ago. The second argument is a character, and this is to choose which mode to open in. There are 3 main modes for interacting with files; read, write and append. We want to append as any new data should go on to the end of the file. Append means ‘add at the end’, just like an appendix goes at the end of a book. We then make a csv writer, in this case one that specifically works with dictionaries. The CSV writer does things like adds commas and matches the fields to the dictionary keys. To be able to do this, it needs to know what file it is using, and also what fields it has. We then iterate over our new additions list and write each new item to our database file. The writer does all the finnicky parts, we just hand it a dictionary and it will create a row for us. "
   ]
  },
  {
   "cell_type": "code",
   "execution_count": null,
   "metadata": {
    "id": "WjiVeDLytdhT"
   },
   "outputs": [],
   "source": [
    "if len(new_additions) > 0:\n",
    "    with open(filename, 'a') as csvfile:\n",
    "        writer = csv.DictWriter(csvfile, fieldnames=fields)\n",
    "        writer.writeheader()\n",
    "        for item in new_additions:\n",
    "            writer.writerow(item)"
   ]
  },
  {
   "cell_type": "markdown",
   "metadata": {
    "id": "0l8ze7JUq2C4"
   },
   "source": [
    "## **Exercise**\n",
    " list the number of authers per genre "
   ]
  },
  {
   "cell_type": "code",
   "execution_count": null,
   "metadata": {
    "id": "bis0t4aG-e7j"
   },
   "outputs": [],
   "source": [
    "#your code here"
   ]
  },
  {
   "cell_type": "markdown",
   "metadata": {
    "id": "vQ7ZKdMlr5xe"
   },
   "source": [
    "Add the following author table to your database.\n",
    "\n",
    "id Name age city phone\n",
    "1 Tolkiens 34 matara 09878987\n",
    "2 Martin 33 jaffna 67678980"
   ]
  },
  {
   "cell_type": "code",
   "execution_count": null,
   "metadata": {
    "id": "HO3e8L-isBsL"
   },
   "outputs": [],
   "source": [
    "# you may need to modify some of your previous code."
   ]
  },
  {
   "cell_type": "markdown",
   "metadata": {
    "id": "h-tEld7CsltM"
   },
   "source": [
    "Fetch the phone number of the author of LOTR"
   ]
  },
  {
   "cell_type": "code",
   "execution_count": null,
   "metadata": {
    "id": "aGGwhQz-stME"
   },
   "outputs": [],
   "source": []
  }
 ],
 "metadata": {
  "colab": {
   "name": "3.1 Python_Flat File Database.ipynb",
   "provenance": []
  },
  "kernelspec": {
   "display_name": "Python 3 (ipykernel)",
   "language": "python",
   "name": "python3"
  },
  "language_info": {
   "codemirror_mode": {
    "name": "ipython",
    "version": 3
   },
   "file_extension": ".py",
   "mimetype": "text/x-python",
   "name": "python",
   "nbconvert_exporter": "python",
   "pygments_lexer": "ipython3",
   "version": "3.10.4"
  }
 },
 "nbformat": 4,
 "nbformat_minor": 4
}
