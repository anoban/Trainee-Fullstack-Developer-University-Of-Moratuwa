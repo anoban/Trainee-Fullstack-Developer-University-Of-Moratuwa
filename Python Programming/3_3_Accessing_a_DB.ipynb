{
 "cells": [
  {
   "cell_type": "markdown",
   "metadata": {
    "id": "BA40vqF4dKjR"
   },
   "source": [
    "# Trainee Full Stack Developer\n",
    "## Python Programming\n",
    "### 3 Working with Data\n",
    "#### 3.3 Accessing a DB\n",
    "*Dr.R.T.Uthayasanker*\n",
    "\n",
    "In this article, we will discuss how to connect to the MySQL database remotely or locally using Python. In below process, we will use PyMySQL module of Python to connect our database."
   ]
  },
  {
   "cell_type": "markdown",
   "metadata": {
    "id": "4k6gO9WdeMGR"
   },
   "source": [
    "# Python DB-API       \n",
    "The Python standard for database interfaces is the Python DB-API. Most Python database interfaces adhere to this standard.\n",
    "\n",
    "You can choose the right database for your application. Python Database API supports a wide range of database servers such as − MySQL, PostgreSQL, Microsoft SQL Server 2000, Oracle\n",
    "and Sybase.\n"
   ]
  },
  {
   "cell_type": "markdown",
   "metadata": {
    "id": "PIlmt2sNydsB"
   },
   "source": [
    "# Choosing Python DBAPIs\n",
    "Here is the list of available Python database interfaces − [Python Database Interfaces and APIs](https://wiki.python.org/moin/DatabaseInterfaces). \n",
    "\n",
    "You must download a separate DB API module for each database you need to access. For example, if you need to access an Oracle database as well as a MySQL database, you must download both the Oracle and the MySQL database modules.\n",
    "\n",
    "The DB API provides a minimal standard for working with databases using Python structures and syntax wherever possible. \n",
    "\n",
    "This API includes the following −\n",
    "\n",
    "1.   Importing the API module.\n",
    "2.   Acquiring a connection with the database.\n",
    "3.   Issuing SQL statements and stored procedures.\n",
    "4.   Closing the connection\n",
    "\n",
    "Python has an in-built support for SQLite. In this section, we would learn all the concepts using MySQL. MySQLdb module, a popular interface with MySQL is not compatible with Python 3. Instead, we shall use [PyMySQL](https://pypi.org/project/PyMySQL/) module."
   ]
  },
  {
   "cell_type": "markdown",
   "metadata": {
    "id": "J__Y8gT4zitJ"
   },
   "source": [
    "# What is PyMySQL ?\n",
    "PyMySQL is an interface for connecting to a MySQL database server from Python. It implements the Python Database API v2.0 and contains a pure-Python MySQL client library. The goal of PyMySQL is to be a drop-in replacement for MySQLdb.\n",
    "\n"
   ]
  },
  {
   "cell_type": "markdown",
   "metadata": {
    "id": "bJ0TxzCGzvj9"
   },
   "source": [
    "# How do I Install PyMySQL?\n",
    "Before proceeding further, you make sure you have PyMySQL installed on your machine. Just type the following in your Python script and execute it −"
   ]
  },
  {
   "cell_type": "code",
   "execution_count": 1,
   "metadata": {
    "id": "goYKA_fyxdwN"
   },
   "outputs": [],
   "source": [
    "import pymysql"
   ]
  },
  {
   "cell_type": "markdown",
   "metadata": {
    "id": "TR9OOBUI_3cv"
   },
   "source": [
    "If it produces the following result, then it means MySQLdb module is not installed −"
   ]
  },
  {
   "cell_type": "markdown",
   "metadata": {
    "id": "0dArvKoMA-C6"
   },
   "source": [
    "# Database Connection\n",
    "Before connecting to a MySQL database, make sure of the following points −\n",
    "\n",
    "* You have created a database TESTDB.\n",
    "\n",
    "* You have created a table EMPLOYEE in TESTDB.\n",
    "\n",
    "* This table has fields FIRST_NAME, LAST_NAME, AGE, SEX and INCOME.\n",
    "\n",
    "* User ID \"testuser\" and password \"test123\" are set to access TESTDB.\n",
    "\n",
    "* Python module PyMySQL is installed properly on your machine.\n",
    "\n",
    "* You have gone through MySQL tutorial to understand MySQL Basics."
   ]
  },
  {
   "cell_type": "markdown",
   "metadata": {
    "id": "T6dQrT-kBuT8"
   },
   "source": [
    "### Example\n",
    "Following is an example of connecting with MySQL database \"TESTDB\" −"
   ]
  },
  {
   "cell_type": "code",
   "execution_count": null,
   "metadata": {
    "id": "5S7XyUW6B4x3"
   },
   "outputs": [],
   "source": [
    "#!/usr/bin/python3\n",
    "\n",
    "import pymysql\n",
    "\n",
    "# Open database connection\n",
    "db = pymysql.connect(\"localhost\",\"testuser\",\"test123\",\"TESTDB\" )\n",
    "\n",
    "# prepare a cursor object using cursor() method\n",
    "cursor = db.cursor()\n",
    "\n",
    "# execute SQL query using execute() method.\n",
    "cursor.execute(\"SELECT VERSION()\")\n",
    "\n",
    "# Fetch a single row using fetchone() method.\n",
    "data = cursor.fetchone()\n",
    "print (\"Database version : %s \" % data)\n",
    "\n",
    "# disconnect from server\n",
    "db.close()"
   ]
  },
  {
   "cell_type": "markdown",
   "metadata": {
    "id": "2hN5hs5fB9Rd"
   },
   "source": [
    "While running this script, it produces the following result."
   ]
  },
  {
   "cell_type": "code",
   "execution_count": null,
   "metadata": {
    "id": "1oGRra_pB-0j"
   },
   "outputs": [],
   "source": [
    "Database version : 5.5.20-log"
   ]
  },
  {
   "cell_type": "markdown",
   "metadata": {
    "id": "PcXZg7VyCJyt"
   },
   "source": [
    "If a connection is established with the datasource, then a Connection Object is returned and saved into **db** for further use, otherwise **db** is set to None. Next, **db** object is used to create a **cursor** object, which in turn is used to execute SQL queries. Finally, before coming out, it ensures that the database connection is closed and resources are released.\n",
    "\n",
    "# Creating Database Table\n",
    "\n",
    "Once a database connection is established, we are ready to create tables or records into the database tables using **execute** method of the created cursor.\n",
    "\n",
    "### Example\n",
    "Let us create a Database table EMPLOYEE −"
   ]
  },
  {
   "cell_type": "code",
   "execution_count": null,
   "metadata": {
    "id": "8XVEQafuC4kG"
   },
   "outputs": [],
   "source": [
    "#!/usr/bin/python3\n",
    "\n",
    "import pymysql\n",
    "\n",
    "# Open database connection\n",
    "db = pymysql.connect(\"localhost\",\"testuser\",\"test123\",\"TESTDB\" )\n",
    "\n",
    "# prepare a cursor object using cursor() method\n",
    "cursor = db.cursor()\n",
    "\n",
    "# Drop table if it already exist using execute() method.\n",
    "cursor.execute(\"DROP TABLE IF EXISTS EMPLOYEE\")\n",
    "\n",
    "# Create table as per requirement\n",
    "sql = \"\"\"CREATE TABLE EMPLOYEE (\n",
    "   FIRST_NAME  CHAR(20) NOT NULL,\n",
    "   LAST_NAME  CHAR(20),\n",
    "   AGE INT,  \n",
    "   SEX CHAR(1),\n",
    "   INCOME FLOAT )\"\"\"\n",
    "\n",
    "cursor.execute(sql)\n",
    "\n",
    "# disconnect from server\n",
    "db.close()\n"
   ]
  },
  {
   "cell_type": "markdown",
   "metadata": {
    "id": "TaYEnEnqDGPy"
   },
   "source": [
    "# INSERT Operation\n",
    "\n",
    "The INSERT Operation is required when you want to create your records into a database table.\n",
    "\n",
    "### Example\n",
    "The following example, executes SQL INSERT statement to create a record in the EMPLOYEE table −"
   ]
  },
  {
   "cell_type": "code",
   "execution_count": null,
   "metadata": {
    "id": "dVXAgi4IDWmZ"
   },
   "outputs": [],
   "source": [
    "#!/usr/bin/python3\n",
    "\n",
    "import pymysql\n",
    "\n",
    "# Open database connection\n",
    "db = pymysql.connect(\"localhost\",\"testuser\",\"test123\",\"TESTDB\" )\n",
    "\n",
    "# prepare a cursor object using cursor() method\n",
    "cursor = db.cursor()\n",
    "\n",
    "# Prepare SQL query to INSERT a record into the database.\n",
    "sql = \"\"\"INSERT INTO EMPLOYEE(FIRST_NAME,\n",
    "   LAST_NAME, AGE, SEX, INCOME)\n",
    "   VALUES ('Mac', 'Mohan', 20, 'M', 2000)\"\"\"\n",
    "try:\n",
    "   # Execute the SQL command\n",
    "   cursor.execute(sql)\n",
    "   # Commit your changes in the database\n",
    "   db.commit()\n",
    "except:\n",
    "   # Rollback in case there is an error\n",
    "   db.rollback()\n",
    "\n",
    "# disconnect from server\n",
    "db.close()"
   ]
  },
  {
   "cell_type": "markdown",
   "metadata": {
    "id": "vgoaIIEuDcMI"
   },
   "source": [
    "The above example can be written as follows to create SQL queries dynamically −"
   ]
  },
  {
   "cell_type": "code",
   "execution_count": null,
   "metadata": {
    "id": "GpngAPzSDdhL"
   },
   "outputs": [],
   "source": [
    "#!/usr/bin/python3\n",
    "\n",
    "import pymysql\n",
    "\n",
    "# Open database connection\n",
    "db = pymysql.connect(\"localhost\",\"testuser\",\"test123\",\"TESTDB\" )\n",
    "\n",
    "# prepare a cursor object using cursor() method\n",
    "cursor = db.cursor()\n",
    "\n",
    "# Prepare SQL query to INSERT a record into the database.\n",
    "sql = \"INSERT INTO EMPLOYEE(FIRST_NAME, \\\n",
    "   LAST_NAME, AGE, SEX, INCOME) \\\n",
    "   VALUES ('%s', '%s', '%d', '%c', '%d' )\" % \\\n",
    "   ('Mac', 'Mohan', 20, 'M', 2000)\n",
    "try:\n",
    "   # Execute the SQL command\n",
    "   cursor.execute(sql)\n",
    "   # Commit your changes in the database\n",
    "   db.commit()\n",
    "except:\n",
    "   # Rollback in case there is any error\n",
    "   db.rollback()\n",
    "\n",
    "# disconnect from server\n",
    "db.close()"
   ]
  },
  {
   "cell_type": "markdown",
   "metadata": {
    "id": "Trpnm-cqDs9r"
   },
   "source": [
    "### Example\n",
    "The following code segment is another form of execution where you can pass parameters directly −"
   ]
  },
  {
   "cell_type": "code",
   "execution_count": null,
   "metadata": {
    "id": "eqJ3hWAXDv1S"
   },
   "outputs": [],
   "source": [
    "..................................\n",
    "user_id = \"test123\"\n",
    "password = \"password\"\n",
    "\n",
    "con.execute('insert into Login values(\"%s\", \"%s\")' % \\ \n",
    "            (user_id, password))\n",
    ".................................."
   ]
  },
  {
   "cell_type": "markdown",
   "metadata": {
    "id": "6u03cFowEFC1"
   },
   "source": [
    "# READ Operation\n",
    "\n",
    "READ Operation on any database means to fetch some useful information from the database.\n",
    "\n",
    "Once the database connection is established, you are ready to make a query into this database. You can use either **fetchone()** method to fetch a single record or **fetchall()** method to fetch multiple values from a database table.\n",
    "\n",
    "*   fetchone() − It fetches the next row of a query result set. A result set is an object that is returned when a cursor object is used to query a table.\n",
    "\n",
    "*   fetchall() − It fetches all the rows in a result set. If some rows have already been extracted from the result set, then it retrieves the remaining rows from the result set.\n",
    "\n",
    "*   rowcount − This is a read-only attribute and returns the number of rows that were affected by an execute() method.\n",
    "\n",
    "### Example\n",
    "The following procedure queries all the records from EMPLOYEE table having salary more than 1000 −"
   ]
  },
  {
   "cell_type": "code",
   "execution_count": null,
   "metadata": {
    "id": "FXZHVIG6PRLD"
   },
   "outputs": [],
   "source": [
    "#!/usr/bin/python3\n",
    "\n",
    "import pymysql\n",
    "\n",
    "# Open database connection\n",
    "db = pymysql.connect(\"localhost\",\"testuser\",\"test123\",\"TESTDB\" )\n",
    "\n",
    "# prepare a cursor object using cursor() method\n",
    "cursor = db.cursor()\n",
    "\n",
    "# Prepare SQL query to INSERT a record into the database.\n",
    "sql = \"SELECT * FROM EMPLOYEE \\\n",
    "      WHERE INCOME > '%d'\" % (1000)\n",
    "try:\n",
    "   # Execute the SQL command\n",
    "   cursor.execute(sql)\n",
    "   # Fetch all the rows in a list of lists.\n",
    "   results = cursor.fetchall()\n",
    "   for row in results:\n",
    "      fname = row[0]\n",
    "      lname = row[1]\n",
    "      age = row[2]\n",
    "      sex = row[3]\n",
    "      income = row[4]\n",
    "      # Now print fetched result\n",
    "      print (\"fname = %s,lname = %s,age = %d,sex = %s,income = %d\" % \\\n",
    "         (fname, lname, age, sex, income ))\n",
    "except:\n",
    "   print (\"Error: unable to fetch data\")\n",
    "\n",
    "# disconnect from server\n",
    "db.close()"
   ]
  },
  {
   "cell_type": "markdown",
   "metadata": {
    "id": "ale3LiWZPSru"
   },
   "source": [
    "### Output\n",
    "This will produce the following result −"
   ]
  },
  {
   "cell_type": "code",
   "execution_count": null,
   "metadata": {
    "id": "c-mg1SsBPe4Z"
   },
   "outputs": [],
   "source": [
    "fname = Mac, lname = Mohan, age = 20, sex = M, income = 2000"
   ]
  },
  {
   "cell_type": "markdown",
   "metadata": {
    "id": "K8rZVoEhPhuR"
   },
   "source": [
    "# Update Operation\n",
    "\n",
    "UPDATE Operation on any database means to update one or more records, which are already available in the database.\n",
    "\n",
    "The following procedure updates all the records having SEX as '**M**'. Here, we increase the AGE of all the males by one year.\n",
    "\n",
    "### Example"
   ]
  },
  {
   "cell_type": "code",
   "execution_count": null,
   "metadata": {
    "id": "PKIDTUQAQEpW"
   },
   "outputs": [],
   "source": [
    "#!/usr/bin/python3\n",
    "\n",
    "import pymysql\n",
    "\n",
    "# Open database connection\n",
    "db = pymysql.connect(\"localhost\",\"testuser\",\"test123\",\"TESTDB\" )\n",
    "\n",
    "# prepare a cursor object using cursor() method\n",
    "cursor = db.cursor()\n",
    "\n",
    "# Prepare SQL query to UPDATE required records\n",
    "sql = \"UPDATE EMPLOYEE SET AGE = AGE + 1 WHERE SEX = '%c'\" % ('M')\n",
    "try:\n",
    "   # Execute the SQL command\n",
    "   cursor.execute(sql)\n",
    "   # Commit your changes in the database\n",
    "   db.commit()\n",
    "except:\n",
    "   # Rollback in case there is any error\n",
    "   db.rollback()\n",
    "\n",
    "# disconnect from server\n",
    "db.close()"
   ]
  },
  {
   "cell_type": "markdown",
   "metadata": {
    "id": "Ajo0118xRAcf"
   },
   "source": [
    "# DELETE Operation\n",
    "\n",
    "DELETE operation is required when you want to delete some records from your database. Following is the procedure to delete all the records from EMPLOYEE where AGE is more than 20 −\n",
    "\n",
    "### Example"
   ]
  },
  {
   "cell_type": "code",
   "execution_count": null,
   "metadata": {
    "id": "H4dGq6nvRNq3"
   },
   "outputs": [],
   "source": [
    "#!/usr/bin/python3\n",
    "\n",
    "import pymysql\n",
    "\n",
    "# Open database connection\n",
    "db = pymysql.connect(\"localhost\",\"testuser\",\"test123\",\"TESTDB\" )\n",
    "\n",
    "# prepare a cursor object using cursor() method\n",
    "cursor = db.cursor()\n",
    "\n",
    "# Prepare SQL query to DELETE required records\n",
    "sql = \"DELETE FROM EMPLOYEE WHERE AGE > '%d'\" % (20)\n",
    "try:\n",
    "   # Execute the SQL command\n",
    "   cursor.execute(sql)\n",
    "   # Commit your changes in the database\n",
    "   db.commit()\n",
    "except:\n",
    "   # Rollback in case there is any error\n",
    "   db.rollback()\n",
    "\n",
    "# disconnect from server\n",
    "db.close()"
   ]
  },
  {
   "cell_type": "markdown",
   "metadata": {
    "id": "eU40C-09RQDn"
   },
   "source": [
    "# Performing Transactions\n",
    "\n",
    "Transactions are a mechanism that ensures data consistency. Transactions have the following four properties −\n",
    "\n",
    "*  **Atomicity** − Either a transaction completes or nothing happens at all.\n",
    "\n",
    "*  **Consistency** − A transaction must start in a consistent state and leave the system in a consistent state.\n",
    "\n",
    "*  **Isolation** − Intermediate results of a transaction are not visible outside the current transaction.\n",
    "\n",
    "*  **Durability** − Once a transaction was committed, the effects are persistent, even after a system failure.\n",
    "\n",
    "The Python DB API 2.0 provides two methods to either commit or rollback a transaction.\n",
    "\n",
    "### Example\n",
    "You already know how to implement transactions. Here is a similar example −\n",
    "\n"
   ]
  },
  {
   "cell_type": "code",
   "execution_count": null,
   "metadata": {
    "id": "DSa5un_-SFes"
   },
   "outputs": [],
   "source": [
    "# Prepare SQL query to DELETE required records\n",
    "sql = \"DELETE FROM EMPLOYEE WHERE AGE > '%d'\" % (20)\n",
    "try:\n",
    "   # Execute the SQL command\n",
    "   cursor.execute(sql)\n",
    "   # Commit your changes in the database\n",
    "   db.commit()\n",
    "except:\n",
    "   # Rollback in case there is any error\n",
    "   db.rollback()"
   ]
  },
  {
   "cell_type": "markdown",
   "metadata": {
    "id": "TkVfcOj2SGnO"
   },
   "source": [
    "# COMMIT Operation\n",
    "Commit is an operation, which gives a green signal to the database to finalize the changes, and after this operation, no change can be reverted back.\n",
    "\n",
    "Here is a simple example to call the **commit** method."
   ]
  },
  {
   "cell_type": "code",
   "execution_count": null,
   "metadata": {
    "id": "llwS5eWXSR3I"
   },
   "outputs": [],
   "source": [
    "db.commit()"
   ]
  },
  {
   "cell_type": "markdown",
   "metadata": {
    "id": "MxeSaDIgSWIj"
   },
   "source": [
    "# ROLLBACK Operation\n",
    "\n",
    "If you are not satisfied with one or more of the changes and you want to revert back those changes completely, then use the **rollback()** method.\n",
    "\n",
    "Here is a simple example to call the **rollback()** method."
   ]
  },
  {
   "cell_type": "code",
   "execution_count": null,
   "metadata": {
    "id": "mvuTyNCgSiUC"
   },
   "outputs": [],
   "source": [
    "db.rollback()"
   ]
  },
  {
   "cell_type": "markdown",
   "metadata": {
    "id": "7xaTSmuPSkBe"
   },
   "source": [
    "# Disconnecting Database\n",
    "To disconnect the Database connection, use the close() method."
   ]
  },
  {
   "cell_type": "code",
   "execution_count": null,
   "metadata": {
    "id": "JvUbz-T2Susp"
   },
   "outputs": [],
   "source": [
    "db.close()"
   ]
  },
  {
   "cell_type": "markdown",
   "metadata": {
    "id": "WAY5QICnS3sx"
   },
   "source": [
    "If the connection to a database is closed by the user with the close() method, any outstanding transactions are rolled back by the DB. However, instead of depending on any of the DB lower level implementation details, your application would be better off calling commit or rollback explicitly.\n",
    "\n",
    "## Handling Errors\n",
    "\n",
    "There are many sources of errors. A few examples are a syntax error in an executed SQL statement, a connection failure, or calling the fetch method for an already canceled or finished statement handle.\n",
    "\n",
    "The DB API defines a number of errors that must exist in each database module. The following table lists these exceptions."
   ]
  },
  {
   "cell_type": "markdown",
   "metadata": {
    "id": "hrbkyNNQTurP"
   },
   "source": [
    "<table border = 1>\n",
    "    <tr>\n",
    "      <th><p>Sr.No.</p></th>\n",
    "      <th><p>Exception & Description</p></th>\n",
    "    </tr>\n",
    "    <tr>\n",
    "      <td><p>1</p></td>\n",
    "      <td><p><b>Warning</b> <br><br>Used for non-fatal issues. Must subclass StandardError.</p></td>\n",
    "    </tr>\n",
    "    <tr>\n",
    "      <td><p>2</p></td>\n",
    "      <td><p><b>Error</b> <br><br>Base class for errors. Must subclass StandardError.</p></td>\n",
    "    </tr>\n",
    "    <tr>\n",
    "      <td><p>3</p></td>\n",
    "      <td><p><b>InterfaceError</b> <br><br>Used for errors in the database module, not the database itself. Must subclass Error.</p></td>\n",
    "    </tr>\n",
    "    <tr>\n",
    "      <td><p>4</p></td>\n",
    "      <td><p><b>DatabaseError</b> <br><br>Used for errors in the database. Must subclass Error.</p></td>\n",
    "    </tr>\n",
    "    <tr>\n",
    "      <td><p>5</p></td>\n",
    "      <td><p><b>DataError</b> <br><br>Subclass of DatabaseError that refers to errors in the data.</p></td>\n",
    "    </tr>\n",
    "    <tr>\n",
    "      <td><p>6</p></td>\n",
    "      <td><p><b>OperationalError</b> <br><br>Subclass of DatabaseError that refers to errors such as the loss of a connection to the database. These errors are generally outside of the control of the Python scripter.</p></td>\n",
    "    </tr>\n",
    "      <td><p>7</p></td>\n",
    "      <td><p><b>IntegrityError</b> <br><br>Subclass of DatabaseError for situations that would damage the relational integrity, such as uniqueness constraints or foreign keys.</p></td>\n",
    "    </tr>\n",
    "    </tr>\n",
    "      <td><p>8</p></td>\n",
    "      <td><p><b>InternalError</b> <br><br>Subclass of DatabaseError that refers to errors internal to the database module, such as a cursor no longer being active.</p></td>\n",
    "    </tr>\n",
    "    </tr>\n",
    "      <td><p>9</p></td>\n",
    "      <td><p><b>ProgrammingError</b><br><br>Subclass of DatabaseError that refers to errors such as a bad table name and other things that can safely be blamed on you.</p></td>\n",
    "    </tr>\n",
    "    </tr>\n",
    "      <td><p>10</p></td>\n",
    "      <td><p><b>NotSupportedError</b><br><br>Subclass of DatabaseError that refers to trying to call unsupported functionality.</p></td>\n",
    "    </tr>\n",
    "\n",
    "\n",
    "    \n",
    "\n",
    "</table>"
   ]
  },
  {
   "cell_type": "markdown",
   "metadata": {
    "id": "DHz7IHBHZMRP"
   },
   "source": [
    "Your Python scripts should handle these errors, but before using any of the above exceptions, make sure your MySQLdb has support for that exception. You can get more information about them by reading the DB API 2.0 specification."
   ]
  },
  {
   "cell_type": "markdown",
   "metadata": {
    "id": "byzgDkn59kru"
   },
   "source": [
    "#Exercise 1\n",
    "Write code to create the tables shown below and insert the records.\n",
    "##Student\n",
    "|STUDENT_NO |SURNAME |FORENAME|\n",
    "|-----|-----|-----| \n",
    "|20060101|Dickens|Charles|\n",
    "|20060102|ApGwilym|Dafydd|\n",
    "|20060103|Zola|Emile|\n",
    "|20060104|Mann|Thomas|\n",
    "|20060105|Stevenson|Robert|\n",
    "\n",
    "##Module\n",
    "|MODULE_CODE |MODULE_NAME|\n",
    "|-----|-----|\n",
    "|CM0001|Databases|\n",
    "|CM0003|Operating Systems|\n",
    "|CM0004|Graphics|\n",
    "\n",
    "##marks\n",
    "|STUDENT_NO|MODULE_CODE|MARK|\n",
    "|-----|-----|-----|\n",
    "|20060101|CM0001|80\n",
    "|20060101|CM0002|65\n",
    "|20060101|CM0003|50\n",
    "|20060102|CM0001|75\n",
    "|20060102|CM0003|45\n",
    "|20060102|CM0004|70\n",
    "|20060103|CM0001|60\n",
    "|20060103|CM0002|75\n",
    "|20060103|CM0004|60\n",
    "|20060104|CM0001|55\n",
    "|20060104|CM0002|40\n",
    "|20060104|CM0003|45\n",
    "|20060105|CM0001|55\n",
    "|20060105|CM0002|50\n",
    "|20060105|CM0004|65\n"
   ]
  },
  {
   "cell_type": "code",
   "execution_count": null,
   "metadata": {
    "id": "_wA7SOm6BMjn"
   },
   "outputs": [],
   "source": [
    "#Your code"
   ]
  },
  {
   "cell_type": "markdown",
   "metadata": {
    "id": "avstuBsVA1cp"
   },
   "source": [
    "#Exercise 2\n",
    "Write a code to list the average marks for each student and their first name.\n",
    "Hint: You may need to join the tables before fetching results."
   ]
  },
  {
   "cell_type": "code",
   "execution_count": null,
   "metadata": {
    "id": "oWexWMAecLcN"
   },
   "outputs": [],
   "source": [
    "#Your code"
   ]
  }
 ],
 "metadata": {
  "colab": {
   "name": "3.3 Accessing a DB.ipynb",
   "provenance": []
  },
  "kernelspec": {
   "display_name": "Python 3 (ipykernel)",
   "language": "python",
   "name": "python3"
  },
  "language_info": {
   "codemirror_mode": {
    "name": "ipython",
    "version": 3
   },
   "file_extension": ".py",
   "mimetype": "text/x-python",
   "name": "python",
   "nbconvert_exporter": "python",
   "pygments_lexer": "ipython3",
   "version": "3.10.4"
  }
 },
 "nbformat": 4,
 "nbformat_minor": 4
}
